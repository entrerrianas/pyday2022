{
 "cells": [
  {
   "cell_type": "markdown",
   "metadata": {
    "slideshow": {
     "slide_type": "slide"
    }
   },
   "source": [
    "<img src=\"images/logo.jpg\" alt=\"drawing\" width=\"300\"/>\n",
    "\n",
    "![banner](images/banner.png)\n",
    "\n",
    "### Python + VPS Jupyter HUB/Notebook, aprender, enseñar, investigar, trabajar de manera colaborativa, remota y presencial\n",
    "#### Fecha: 17 de septiembre 2022\n",
    "####  Sofía Martin, Ariel Ramos, Liliana Hurtado, Enzo Juárez"
   ]
  },
  {
   "cell_type": "markdown",
   "metadata": {
    "slideshow": {
     "slide_type": "slide"
    }
   },
   "source": [
    "# Organización interdisciplinaria\n",
    "\n",
    "+ Pandemia global COVID 19\n",
    "+ equipo de trabajo innovador de enseñanza y aprendizaje en entornos virtuales. \n",
    "\n",
    "## Objetivo: \n",
    "\n",
    "+ El uso de herramientas open source favorecen la inclusión en procesos de innovación educativa de los establecimientos dedicados a la enseñanza, públicos y privados en todos los niveles educativos\n",
    "+ implementación de Python en un VPS con Jupyter HUB/Notebook en diferentes campos disciplinares\n",
    "\n",
    "\n"
   ]
  },
  {
   "cell_type": "markdown",
   "metadata": {},
   "source": [
    "Somos informáticos y sabemos que páginas, repositorios con  guías técnicas disponibles en Internet con este tema, entonces:\n",
    "* ¿cuál es el problema?\n",
    "* ¿por qué no las utilizan los docentes en las escuelas?\n",
    "\n"
   ]
  },
  {
   "cell_type": "markdown",
   "metadata": {
    "slideshow": {
     "slide_type": "slide"
    }
   },
   "source": [
    "**Especialista en Didáctica: Liliana Hurtado**  trabaja en el campo pedagógico de la Universidad de Salta, se unió al equipo así lograr la metodología de:\n",
    "* ¿cómo adaptamos estos contenidos para que los docentes lo comprendan?\n",
    "* ¿qué contenidos del área propia de la matemática son mas desafiantes para enseñar o comprender por los estudiantes?"
   ]
  },
  {
   "cell_type": "markdown",
   "metadata": {
    "slideshow": {
     "slide_type": "slide"
    }
   },
   "source": [
    "## Aporte:\n",
    "* Visibilizar los aportes de la propuesta en sus diferentes maneras de interpelar las concepciones tradicionales\n",
    "    * de enseñanza y aprendizaje, \n",
    "    * de relaciones entre enseñante y aprendiente, \n",
    "    * de lenguajes comunicacionales, de evaluación y autonomía. "
   ]
  },
  {
   "cell_type": "markdown",
   "metadata": {
    "slideshow": {
     "slide_type": "slide"
    }
   },
   "source": [
    "## Caja de arena\n",
    "* ¿por qué? : metáfora con poder para sintetizar las transformaciones y esclarecer la novedad en el campo de la enseñanza y el aprendizaje mediado atraves del uso, en este caso, de Python + Jupyter HUB/Notebook en un VPS.\n",
    "* configuración de un entorno de aprendizaje  y condición de posibilidad para la “enseñanza poderosa” de contenidos de diferentes campos disciplinares para cerar un abordaje \n",
    "    * Transdisciplinar\n",
    "    * Creativo\n",
    "    * Autónomo \n",
    "    * Autoregulado\n",
    "    * Colaborativo\n",
    "    * Lúdico\n",
    "    * Dinámico\n",
    "    * y construido en una matriz multilenguaje, centrado en un sujeto de aprendizaje deseante. "
   ]
  },
  {
   "cell_type": "code",
   "execution_count": null,
   "metadata": {},
   "outputs": [],
   "source": []
  }
 ],
 "metadata": {
  "celltoolbar": "Slideshow",
  "kernelspec": {
   "display_name": "Python 3 (ipykernel)",
   "language": "python",
   "name": "python3"
  },
  "language_info": {
   "codemirror_mode": {
    "name": "ipython",
    "version": 3
   },
   "file_extension": ".py",
   "mimetype": "text/x-python",
   "name": "python",
   "nbconvert_exporter": "python",
   "pygments_lexer": "ipython3",
   "version": "3.10.4"
  },
  "rise": {
   "autolaunch": false,
   "enable_chalkboard": false,
   "theme": "simple",
   "transition": "slide"
  }
 },
 "nbformat": 4,
 "nbformat_minor": 4
}
